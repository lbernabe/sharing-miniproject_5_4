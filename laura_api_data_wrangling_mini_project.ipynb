{
 "cells": [
  {
   "cell_type": "markdown",
   "metadata": {},
   "source": [
    "This exercise will require you to pull some data from the Qunadl API. Qaundl is currently the most widely used aggregator of financial market data."
   ]
  },
  {
   "cell_type": "markdown",
   "metadata": {},
   "source": [
    "As a first step, you will need to register a free account on the http://www.quandl.com website."
   ]
  },
  {
   "cell_type": "markdown",
   "metadata": {},
   "source": [
    "After you register, you will be provided with a unique API key, that you should store:"
   ]
  },
  {
   "cell_type": "code",
   "execution_count": 2,
   "metadata": {},
   "outputs": [],
   "source": [
    "# Store the API key as a string - according to PEP8, constants are always named in all upper case\n",
    "API_KEY = ''"
   ]
  },
  {
   "cell_type": "markdown",
   "metadata": {},
   "source": [
    "Qaundl has a large number of data sources, but, unfortunately, most of them require a Premium subscription. Still, there are also a good number of free datasets."
   ]
  },
  {
   "cell_type": "markdown",
   "metadata": {},
   "source": [
    "For this mini project, we will focus on equities data from the Frankfurt Stock Exhange (FSE), which is available for free. We'll try and analyze the stock prices of a company called Carl Zeiss Meditec, which manufactures tools for eye examinations, as well as medical lasers for laser eye surgery: https://www.zeiss.com/meditec/int/home.html. The company is listed under the stock ticker AFX_X."
   ]
  },
  {
   "cell_type": "markdown",
   "metadata": {},
   "source": [
    "You can find the detailed Quandl API instructions here: https://docs.quandl.com/docs/time-series"
   ]
  },
  {
   "cell_type": "markdown",
   "metadata": {},
   "source": [
    "While there is a dedicated Python package for connecting to the Quandl API, we would prefer that you use the *requests* package, which can be easily downloaded using *pip* or *conda*. You can find the documentation for the package here: http://docs.python-requests.org/en/master/ "
   ]
  },
  {
   "cell_type": "markdown",
   "metadata": {},
   "source": [
    "Finally, apart from the *requests* package, you are encouraged to not use any third party Python packages, such as *pandas*, and instead focus on what's available in the Python Standard Library (the *collections* module might come in handy: https://pymotw.com/3/collections/ ).\n",
    "Also, since you won't have access to DataFrames, you are encouraged to us Python's native data structures - preferably dictionaries, though some questions can also be answered using lists.\n",
    "You can read more on these data structures here: https://docs.python.org/3/tutorial/datastructures.html"
   ]
  },
  {
   "cell_type": "markdown",
   "metadata": {},
   "source": [
    "Keep in mind that the JSON responses you will be getting from the API map almost one-to-one to Python's dictionaries. Unfortunately, they can be very nested, so make sure you read up on indexing dictionaries in the documentation provided above."
   ]
  },
  {
   "cell_type": "code",
   "execution_count": 114,
   "metadata": {},
   "outputs": [],
   "source": [
    "# First, import the relevant modules\n",
    "import requests\n",
    "import collections\n",
    "import numpy as np\n"
   ]
  },
  {
   "cell_type": "code",
   "execution_count": 92,
   "metadata": {},
   "outputs": [
    {
     "name": "stdout",
     "output_type": "stream",
     "text": [
      "{'dataset_data': {'limit': None, 'transform': None, 'column_index': None, 'column_names': ['Date', 'Open', 'High', 'Low', 'Close', 'Change', 'Traded Volume', 'Turnover', 'Last Price of the Day', 'Daily Traded Units', 'Daily Turnover'], 'start_date': '2019-09-13', 'end_date': '2019-09-13', 'frequency': 'daily', 'data': [['2019-09-13', 102.2, 102.3, 98.1, 98.9, None, 130746.0, 12958266.0, None, None, None]], 'collapse': None, 'order': None}}\n"
     ]
    }
   ],
   "source": [
    "# Now, call the Quandl API and pull out a small sample of the data (only one day) to get a glimpse\n",
    "# into the JSON structure that will be returned\n",
    "curl = \"https://www.quandl.com/api/v3/datasets/FSE/AFX_X/data.json?start_date=2019-09-13&end_date=2019-09-13&api_key=zp2mjecWAbVxK_oXQFiY\"\n",
    "\n",
    "#EXAMPLE curl \"https://www.quandl.com/api/v3/datasets/WIKI/FB.json?column_index=4&start_date=2019-0-01&end_date=2014-12-31&collapse=monthly&transform=rdiff&api_key=YOURAPIKEY\"\n",
    "\n",
    "r = requests.get(curl)\n",
    "print (r.json())\n"
   ]
  },
  {
   "cell_type": "code",
   "execution_count": 93,
   "metadata": {},
   "outputs": [],
   "source": [
    "# Inspect the JSON structure of the object you created, and take note of how nested it is,\n",
    "# as well as the overall structure\n",
    "# Main dictionary --> \"dataset_data\"\n",
    "# \n"
   ]
  },
  {
   "cell_type": "markdown",
   "metadata": {},
   "source": [
    "These are your tasks for this mini project:\n",
    "\n",
    "1. Collect data from the Franfurt Stock Exchange, for the ticker AFX_X, for the whole year 2017 (keep in mind that the date format is YYYY-MM-DD).\n",
    "2. Convert the returned JSON object into a Python dictionary.\n",
    "3. Calculate what the highest and lowest opening prices were for the stock in this period.\n",
    "4. What was the largest change in any one day (based on High and Low price)?\n",
    "5. What was the largest change between any two days (based on Closing Price)?\n",
    "6. What was the average daily trading volume during this year?\n",
    "7. (Optional) What was the median trading volume during this year. (Note: you may need to implement your own function for calculating the median.)"
   ]
  },
  {
   "cell_type": "code",
   "execution_count": 94,
   "metadata": {},
   "outputs": [],
   "source": [
    "###1 Collect data from the Franfurt Stock Exchange, for the ticker AFX_X, for the whole year 2017\n",
    "\n",
    "curl = \"https://www.quandl.com/api/v3/datasets/FSE/AFX_X/data.json?start_date=2019-01-01&end_date=2019-12-31&api_key=zp2mjecWAbVxK_oXQFiY\"\n",
    "\n",
    "r_year = requests.get(curl)"
   ]
  },
  {
   "cell_type": "code",
   "execution_count": 95,
   "metadata": {},
   "outputs": [
    {
     "name": "stdout",
     "output_type": "stream",
     "text": [
      "<class 'dict'>\n",
      "<class 'dict'>\n"
     ]
    }
   ],
   "source": [
    "###2 Convert the returned JSON object into a Python dictionary\n",
    "# As far as I can tell those are already dictionaries \n",
    "print (type(r_year.json()))\n",
    "mydict = r_year.json()\n",
    "print (type(mydict))\n"
   ]
  },
  {
   "cell_type": "code",
   "execution_count": 96,
   "metadata": {},
   "outputs": [
    {
     "name": "stdout",
     "output_type": "stream",
     "text": [
      "<class 'list'>\n",
      "The length of the values different than None is 99\n",
      "The highest opening price is 109.1\n",
      "The lowest opening price is 83.8\n"
     ]
    }
   ],
   "source": [
    "###3 Calculate what the highest and lowest opening prices were for the stock in this period.\n",
    "mylist = r_year.json()['dataset_data']['data']\n",
    "# This is a list of sublists\n",
    "print(type(mylist))\n",
    "\n",
    "#Empty list for the open rates\n",
    "open_rates = [] \n",
    "#Extract the open rates for every sublist\n",
    "for sublist in mylist: \n",
    "    # I am interested in the entry 1 ('Open') of the list -- opening price\n",
    "    open_rates.append(sublist[1])\n",
    "          \n",
    "# Remove None values in list \n",
    "open_rates = list(filter(None, open_rates)) \n",
    "#print(open_rates) \n",
    "\n",
    "print('The length of the values different than None is',len(open_rates))\n",
    "print('The highest opening price is',max(open_rates))\n",
    "print('The lowest opening price is', min(open_rates))\n"
   ]
  },
  {
   "cell_type": "code",
   "execution_count": 97,
   "metadata": {},
   "outputs": [
    {
     "name": "stdout",
     "output_type": "stream",
     "text": [
      "The largest change in one day is 9.899999999999991\n"
     ]
    }
   ],
   "source": [
    "###4 What was the largest change in any one day (based on High and Low price)?\n",
    " \n",
    "#Empty list for the open - low rates\n",
    "daychange_rates = [] \n",
    "#Extract the open rates for every sublist\n",
    "for sublist in mylist: \n",
    "    # I am interested in the difference between entry 2 ('High') and entry 3('Low') of the list\n",
    "    daychange_rates.append(sublist[2]-sublist[3])\n",
    "          \n",
    "# Remove None values in list \n",
    "daychange_rates = list(filter(None, daychange_rates)) \n",
    "#print(daychange_rates) \n",
    "\n",
    "print('The largest change in one day is',max(daychange_rates))\n",
    "\n"
   ]
  },
  {
   "cell_type": "code",
   "execution_count": 104,
   "metadata": {},
   "outputs": [
    {
     "name": "stdout",
     "output_type": "stream",
     "text": [
      "The largest change in two days is 98.9 This seems to high!\n"
     ]
    }
   ],
   "source": [
    "###5 What was the largest change between any two days (based on Closing Price)?\n",
    "\n",
    "#Empty list for the two day change\n",
    "twodaychange_rates = [] \n",
    "#Extract the open rates for every sublist\n",
    "preclose = 0;\n",
    "for sublist in mylist: \n",
    "    # I am interested in the difference between entry 4 ('Close')\n",
    "    twodaychange_rates.append(sublist[4]-preclose)\n",
    "    preclose = sublist[4]\n",
    "          \n",
    "# Remove None values in list \n",
    "twodaychange_rates = list(filter(None, twodaychange_rates)) \n",
    "#print(twodaychange_rates) \n",
    "abstwodaychange_rates = np.abs(twodaychange_rates)\n",
    "\n",
    "print('The largest change in two days is',max(abstwodaychange_rates),'This seems to high!')\n",
    "\n",
    "\n"
   ]
  },
  {
   "cell_type": "code",
   "execution_count": 113,
   "metadata": {},
   "outputs": [
    {
     "name": "stdout",
     "output_type": "stream",
     "text": [
      "The average trading volume 166439.5337837838\n"
     ]
    }
   ],
   "source": [
    "###6 What was the average daily trading volume during this year?\n",
    "\n",
    "#Empty list for the trading volume\n",
    "trading_volume = [] \n",
    "#Extract the open rates for every sublist\n",
    "for sublist in mylist: \n",
    "    # I am interested in the difference between entry 6 ('Trading volume')\n",
    "    trading_volume.append(sublist[6])\n",
    "          \n",
    "# Remove None values in list \n",
    "trading_volume = list(filter(None, trading_volume)) \n",
    "#print(trading_volume) \n",
    "averagetrading_volume = np.average(trading_volume)\n",
    "\n",
    "print('The average trading volume', averagetrading_volume)\n",
    "\n"
   ]
  },
  {
   "cell_type": "code",
   "execution_count": 116,
   "metadata": {},
   "outputs": [
    {
     "name": "stdout",
     "output_type": "stream",
     "text": [
      "The median trading volume with numpy 123505.0 Why do I need to create my own fucntion?\n"
     ]
    }
   ],
   "source": [
    "###7 (Optional) What was the median trading volume during this year. \n",
    "mediantrading_volume = np.median(trading_volume)\n",
    "print('The median trading volume with numpy', mediantrading_volume, 'Why do I need to create my own fucntion?')\n"
   ]
  },
  {
   "cell_type": "code",
   "execution_count": null,
   "metadata": {},
   "outputs": [],
   "source": []
  }
 ],
 "metadata": {
  "kernelspec": {
   "display_name": "Python 3",
   "language": "python",
   "name": "python3"
  },
  "language_info": {
   "codemirror_mode": {
    "name": "ipython",
    "version": 3
   },
   "file_extension": ".py",
   "mimetype": "text/x-python",
   "name": "python",
   "nbconvert_exporter": "python",
   "pygments_lexer": "ipython3",
   "version": "3.7.3"
  }
 },
 "nbformat": 4,
 "nbformat_minor": 2
}
